{
 "cells": [
  {
   "cell_type": "code",
   "execution_count": null,
   "id": "faf0cfa2",
   "metadata": {},
   "outputs": [],
   "source": [
    "'''# Demo Notebook\n",
    "\n",
    "import cv2\n",
    "import matplotlib.pyplot as plt\n",
    "from shape_from_shading import preprocessing, gradients, integration, shape_detection, texturing, visualization\n",
    "\n",
    "image_path = \"clock_CV.jpeg\"  # or whichever image you want\n",
    "img, rgb, gray = preprocessing.load_and_preprocess(image_path)\n",
    "\n",
    "gray_norm = preprocessing.normalize_image(gray)\n",
    "gx, gy = gradients.compute_gradients(gray_norm)\n",
    "depth = integration.frankotchellappa(gx, gy)\n",
    "\n",
    "mask, shape_type = shape_detection.detect_common_shape(gray)\n",
    "depth_masked = depth * (mask.astype(depth.dtype))\n",
    "depth_masked = preprocessing.apply_blur(depth_masked)\n",
    "\n",
    "rgb_masked = texturing.apply_mask_to_rgb(rgb, mask)\n",
    "\n",
    "# Plot 3D using Plotly\n",
    "visualization.plot_3d_mesh(depth_masked, rgb_masked, scale=15)\n",
    "'''"
   ]
  }
 ],
 "metadata": {
  "kernelspec": {
   "display_name": ".venv",
   "language": "python",
   "name": "python3"
  },
  "language_info": {
   "name": "python",
   "version": "3.12.6"
  }
 },
 "nbformat": 4,
 "nbformat_minor": 5
}

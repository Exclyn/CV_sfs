{
 "cells": [
  {
   "cell_type": "code",
   "execution_count": null,
   "id": "faf0cfa2",
   "metadata": {},
   "outputs": [],
   "source": [
    "{\n",
    " \"cells\": [\n",
    "  {\n",
    "   \"cell_type\": \"code\",\n",
    "   \"execution_count\": null,\n",
    "   \"id\": \"demo-cell\",\n",
    "   \"metadata\": {},\n",
    "   \"outputs\": [],\n",
    "   \"source\": [\n",
    "    \"# Example Notebook for 3D Reconstruction\\n\",\n",
    "    \"import cv2\\n\",\n",
    "    \"import matplotlib.pyplot as plt\\n\",\n",
    "    \"from shape_from_shading import preprocessing, gradients, integration, shape_detection, texturing, visualization\\n\",\n",
    "    \"\\n\",\n",
    "    \"# Provide the path to your image\\n\",\n",
    "    \"image_path = 'path/to/your/image.jpg'\\n\",\n",
    "    \"\\n\",\n",
    "    \"# Preprocess the image\\n\",\n",
    "    \"img, rgb, gray = preprocessing.load_and_preprocess(image_path)\\n\",\n",
    "    \"gray_norm = preprocessing.normalize_image(gray)\\n\",\n",
    "    \"gx, gy = gradients.compute_gradients(gray_norm)\\n\",\n",
    "    \"depth = integration.frankotchellappa(gx, gy)\\n\",\n",
    "    \"mask, shape_type = shape_detection.detect_common_shape(gray)\\n\",\n",
    "    \"print('Detected shape:', shape_type)\\n\",\n",
    "    \"depth_masked = depth * mask\\n\",\n",
    "    \"depth_masked = preprocessing.apply_blur(depth_masked)\\n\",\n",
    "    \"texture_facecolors = texturing.prepare_texture(rgb, mask)\\n\",\n",
    "    \"\\n\",\n",
    "    \"visualization.plot_3d_surface(depth_masked, texture_facecolors, scale=15, view_elev=50, view_azim=120)\\n\"\n",
    "   ]\n",
    "  }\n",
    " ],\n",
    " \"metadata\": {\n",
    "  \"kernelspec\": {\n",
    "   \"display_name\": \"Python 3\",\n",
    "   \"language\": \"python\",\n",
    "   \"name\": \"python3\"\n",
    "  },\n",
    "  \"language_info\": {\n",
    "   \"file_extension\": \".py\",\n",
    "   \"mimetype\": \"text/x-python\",\n",
    "   \"name\": \"python\"\n",
    "  }\n",
    " },\n",
    " \"nbformat\": 4,\n",
    " \"nbformat_minor\": 2\n",
    "}\n"
   ]
  }
 ],
 "metadata": {
  "kernelspec": {
   "display_name": ".venv",
   "language": "python",
   "name": "python3"
  },
  "language_info": {
   "name": "python",
   "version": "3.12.6"
  }
 },
 "nbformat": 4,
 "nbformat_minor": 5
}
